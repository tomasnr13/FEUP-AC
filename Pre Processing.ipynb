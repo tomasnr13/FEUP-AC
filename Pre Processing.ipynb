{
 "cells": [
  {
   "cell_type": "code",
   "execution_count": 1,
   "metadata": {},
   "outputs": [],
   "source": [
    "import matplotlib.pyplot as plt\n",
    "import seaborn as sns\n",
    "import pandas as pd\n",
    "import numpy as np\n",
    "import math\n",
    "import os\n",
    "\n",
    "from sklearn import preprocessing\n",
    "\n",
    "pd.set_option('display.max_columns', 200)\n",
    "\n",
    "import warnings\n",
    "warnings.filterwarnings('ignore')"
   ]
  },
  {
   "cell_type": "markdown",
   "metadata": {},
   "source": [
    "# General statistics analysis functions\n"
   ]
  },
  {
   "cell_type": "code",
   "execution_count": null,
   "metadata": {},
   "outputs": [],
   "source": [
    "# Get Basic Column Statistics values - max, min, count, average, standard deviation, first, last\n",
    "\n",
    "def getCount(df, col): return df[col].count()\n",
    "def getMin(df, col):   return df[col].min()\n",
    "def getMax(df, col):   return df[col].max()\n",
    "def getAvg(df, col):   return df[col].mean()\n",
    "def getFirst(df):          return df.iloc[0]\n",
    "def getLast(df):           return df.iloc[-1]\n",
    "def getStd(df, col):   return df[col].std()"
   ]
  },
  {
   "cell_type": "markdown",
   "metadata": {},
   "source": [
    "# Helper Functions"
   ]
  },
  {
   "cell_type": "code",
   "execution_count": 5,
   "metadata": {},
   "outputs": [],
   "source": [
    "# Changes type of attribute of a specific attribute on a collumn\n",
    "def data_trans(dataset, attribute, type):\n",
    "    dataset[attribute] = pd.to_numeric(dataset[attribute], errors='coerce').fillna(0).astype(type)"
   ]
  },
  {
   "cell_type": "markdown",
   "metadata": {},
   "source": [
    "# Plot-related Functions\n"
   ]
  },
  {
   "cell_type": "code",
   "execution_count": 4,
   "metadata": {},
   "outputs": [],
   "source": [
    "def scatterplot(dataset):\n",
    "    sns.set_theme(style=\"ticks\")\n",
    "    sns.pairplot(dataset, hue=\"status\")\n",
    "    plt.show()\n",
    "   \n",
    "def heatmap(dataset):\n",
    "    # Creating correlation matrix\n",
    "    dataset_corr = dataset.corr().abs()\n",
    "    print(dataset_corr)\n",
    "\n",
    "    sns.heatmap(dataset_corr, cmap='RdYlGn_r', linewidths=0.5, annot=True)\n",
    "    plt.yticks(rotation= 0)\n",
    "    plt.xticks(rotation=90)\n",
    "    # Display the Pharma Sector Heatmap\n",
    "    plt.show()\n",
    "    \n",
    "def boxplot(datasetCols, datasetList):\n",
    "   \n",
    "    fig = plt.figure(figsize =(10, 7))\n",
    "    ax = fig.add_subplot(111)\n",
    "\n",
    "    # Creating axes instance\n",
    "    bp = ax.boxplot(datasetList, patch_artist = True,\n",
    "                    notch ='True', vert = 0)\n",
    "\n",
    "    colors = ['#0000FF', '#00FF00',\n",
    "            '#FFFF00', '#FF00FF']\n",
    "    \n",
    "    for patch, color in zip(bp['boxes'], colors):\n",
    "        patch.set_facecolor(color)\n",
    "\n",
    "    # changing color and linewidth of\n",
    "    # whiskers\n",
    "    for whisker in bp['whiskers']:\n",
    "        whisker.set(color ='#8B008B',\n",
    "                    linewidth = 1.5,\n",
    "                    linestyle =\":\")\n",
    "    \n",
    "    # changing color and linewidth of\n",
    "    # caps\n",
    "    for cap in bp['caps']:\n",
    "        cap.set(color ='#8B008B',\n",
    "                linewidth = 2)\n",
    "    \n",
    "    # changing color and linewidth of\n",
    "    # medians\n",
    "    for median in bp['medians']:\n",
    "        median.set(color ='red',\n",
    "                linewidth = 3)\n",
    "    \n",
    "    # changing style of fliers\n",
    "    for flier in bp['fliers']:\n",
    "        flier.set(marker ='D',\n",
    "                color ='#e7298a',\n",
    "                alpha = 0.5)\n",
    "        \n",
    "    # x-axis labels\n",
    "    ax.set_yticklabels(datasetCols)\n",
    "    \n",
    "    # Adding title\n",
    "    plt.title(\"Box Plot\")\n",
    "    \n",
    "    # Removing top axes and right axes\n",
    "    # ticks\n",
    "    ax.get_xaxis().tick_bottom()\n",
    "    ax.get_yaxis().tick_left()\n",
    "\n",
    "    plt.show()\n",
    "\n",
    "def barplotcount(dataset, column_name):\n",
    "    sns.countplot(x = column_name, data = dataset)\n",
    "    plt.show()\n"
   ]
  },
  {
   "cell_type": "markdown",
   "metadata": {},
   "source": [
    "# Handling Missing Values"
   ]
  },
  {
   "cell_type": "code",
   "execution_count": 3,
   "metadata": {},
   "outputs": [],
   "source": [
    "def nulls(dataset, jcolumns):\n",
    "    for col in jcolumns:\n",
    "        if(col in dataset.columns.tolist()):\n",
    "            for row in range(0,len(dataset)):\n",
    "                if dataset.iloc[row][col] is None:\n",
    "                    dataset.drop(row, axis=0, inplace=True)\n",
    "        else:\n",
    "            print('Error: column ' + col + ' does not exist in dataset')\n",
    "    dataset.fillna(0) \n",
    "    return dataset"
   ]
  },
  {
   "cell_type": "markdown",
   "metadata": {},
   "source": [
    "# Feature Selection"
   ]
  },
  {
   "cell_type": "code",
   "execution_count": null,
   "metadata": {},
   "outputs": [],
   "source": []
  },
  {
   "cell_type": "markdown",
   "metadata": {},
   "source": [
    "# Load Datasets\n"
   ]
  },
  {
   "cell_type": "code",
   "execution_count": 2,
   "metadata": {},
   "outputs": [],
   "source": [
    "    account = pd.read_csv(\"C:/Users/ASUS/Desktop/FEUP/4ano/1Semestre/AC/Projeto-AC/ficheiros_competicao_dev/account.csv\")\n",
    "    cards = pd.read_csv(\"C:/Users/ASUS/Desktop/FEUP/4ano/1Semestre/AC/Projeto-AC/ficheiros_competicao_dev/card_dev.csv\")\n",
    "    clients = pd.read_csv(\"C:/Users/ASUS/Desktop/FEUP/4ano/1Semestre/AC/Projeto-AC/ficheiros_competicao_dev/client.csv\")\n",
    "    disps = pd.read_csv(\"C:/Users/ASUS/Desktop/FEUP/4ano/1Semestre/AC/Projeto-AC/ficheiros_competicao_dev/disp.csv\")\n",
    "    districts = pd.read_csv(\"C:/Users/ASUS/Desktop/FEUP/4ano/1Semestre/AC/Projeto-AC/ficheiros_competicao_dev/district.csv\")\n",
    "    loans = pd.read_csv(\"C:/Users/ASUS/Desktop/FEUP/4ano/1Semestre/AC/Projeto-AC/ficheiros_competicao_dev/loan_dev.csv\")\n",
    "    trans = pd.read_csv(\"C:/Users/ASUS/Desktop/FEUP/4ano/1Semestre/AC/Projeto-AC/ficheiros_competicao_dev/trans_dev.csv\")\n",
    "\n",
    "    dataset = account.rename({'frequency' : 'frequency_account', 'date' : 'date_of_creation'}, axis=1)\n",
    "\n",
    "    dataset = dataset.merge(loans, how='outer') \n",
    "    dataset.drop('loan_id', inplace=True, axis=1)\n",
    "    dataset = dataset.rename({'date' : 'date_of_loan', 'duration' : 'duration_loan', 'payments' : 'payments_loan', 'status' : 'status_loan'}, axis=1)\n",
    "\n",
    "    dataset = dataset.merge(pd.DataFrame(trans.groupby('account_id').size(), columns=['n.of trans']), left_on='account_id', right_index=True, how=\"outer\")\n",
    "    dataset = dataset.merge(pd.DataFrame(trans[trans['operation']=='credit in cash'].groupby('account_id').size(), columns=['credit_cash']), right_index=True, left_on='account_id', how=\"outer\")\n",
    "    dataset = dataset.merge(pd.DataFrame(trans[trans['operation']=='credit card withdrawal'].groupby('account_id').size(), columns=['cc_wdw']), right_index=True, left_on='account_id', how=\"outer\")\n",
    "    dataset = dataset.merge(pd.DataFrame(trans[trans['operation']=='withdrawal in cash'].groupby('account_id').size(), columns=['wdw_cash']), right_index=True, left_on='account_id', how=\"outer\")\n",
    "    dataset = dataset.merge(pd.DataFrame(trans[trans['operation']=='collection from another bank'].groupby('account_id').size(), columns=['coll_bank']), right_index=True, left_on='account_id', how=\"outer\")\n",
    "    dataset = dataset.merge(pd.DataFrame(trans[trans['operation']=='remittance to another bank'].groupby('account_id').size(), columns=['rem_bank']), right_index=True, left_on='account_id', how=\"outer\")\n",
    "    # dataset = dataset.rename({'amount_x' : 'amount_loan', 'amount_y' : 'amount_trans', 'date' : 'date_trans', 'account' : 'account partner'}, axis=1)\n",
    "\n",
    "    dataset = dataset.merge(disps,  how='outer')\n",
    "    dataset = dataset.rename({'type_x' : 'trans_type', 'type_y' : 'disp_type'}, axis=1)\n",
    "    \n",
    "    dataset = dataset.merge(cards, how='outer')\n",
    "    dataset = dataset.rename({'type' : 'card_type'}, axis=1)\n",
    "    dataset.drop('disp_id', inplace=True, axis=1)\n",
    "\n",
    "    dataset = dataset.merge(clients, left_on=\"client_id\", right_on=\"client_id\", how='outer') \n",
    "    dataset = dataset.rename({'district_id_x' : 'district_id_account', 'district_id_y' : 'district_id_client'}, axis=1)\n",
    "    dataset = dataset.merge(districts, left_on = \"district_id_client\", right_on=\"district_id\", how='outer' ) "
   ]
  },
  {
   "cell_type": "markdown",
   "metadata": {},
   "source": [
    "# Processing Each Individual Table"
   ]
  },
  {
   "cell_type": "code",
   "execution_count": null,
   "metadata": {},
   "outputs": [],
   "source": [
    "def loans_handler(loans_df):\n",
    "    "
   ]
  },
  {
   "cell_type": "code",
   "execution_count": null,
   "metadata": {},
   "outputs": [],
   "source": [
    "def district_handler(district_df):\n",
    "    data_trans(district_df, 'no. of commited crimes \\'95', 'int64')"
   ]
  }
 ],
 "metadata": {
  "kernelspec": {
   "display_name": "Python 3.9.6 64-bit",
   "language": "python",
   "name": "python3"
  },
  "language_info": {
   "codemirror_mode": {
    "name": "ipython",
    "version": 3
   },
   "file_extension": ".py",
   "mimetype": "text/x-python",
   "name": "python",
   "nbconvert_exporter": "python",
   "pygments_lexer": "ipython3",
   "version": "3.9.6"
  },
  "vscode": {
   "interpreter": {
    "hash": "14958d3aee5f1cad06795f787e54b96185c25fb40dfec723a5be941f3a531b8c"
   }
  }
 },
 "nbformat": 4,
 "nbformat_minor": 4
}
